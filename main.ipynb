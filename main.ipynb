{
 "cells": [
  {
   "cell_type": "code",
   "execution_count": null,
   "metadata": {},
   "outputs": [
    {
     "name": "stdout",
     "output_type": "stream",
     "text": [
      "        time_in_hospital  num_lab_procedures  num_procedures  num_medications  \\\n",
      "0                      1                  41               0                1   \n",
      "1                      3                  59               0               18   \n",
      "2                      2                  11               5               13   \n",
      "3                      2                  44               1               16   \n",
      "4                      1                  51               0                8   \n",
      "...                  ...                 ...             ...              ...   \n",
      "101761                 3                  51               0               16   \n",
      "101762                 5                  33               3               18   \n",
      "101763                 1                  53               0                9   \n",
      "101764                10                  45               2               21   \n",
      "101765                 6                  13               3                3   \n",
      "\n",
      "        number_outpatient  number_emergency  number_inpatient  \\\n",
      "0                       0                 0                 0   \n",
      "1                       0                 0                 0   \n",
      "2                       2                 0                 1   \n",
      "3                       0                 0                 0   \n",
      "4                       0                 0                 0   \n",
      "...                   ...               ...               ...   \n",
      "101761                  0                 0                 0   \n",
      "101762                  0                 0                 1   \n",
      "101763                  1                 0                 0   \n",
      "101764                  0                 0                 1   \n",
      "101765                  0                 0                 0   \n",
      "\n",
      "        number_diagnoses  \n",
      "0                      1  \n",
      "1                      9  \n",
      "2                      6  \n",
      "3                      7  \n",
      "4                      5  \n",
      "...                  ...  \n",
      "101761                 9  \n",
      "101762                 9  \n",
      "101763                13  \n",
      "101764                 9  \n",
      "101765                 9  \n",
      "\n",
      "[101766 rows x 8 columns]\n"
     ]
    }
   ],
   "source": [
    "import pandas as pd\n",
    "\n",
    "# Carregar os dados\n",
    "try:\n",
    "    df = pd.read_csv('diabetic_data.csv')\n",
    "except FileNotFoundError:\n",
    "    print(\"O arquivo 'diabetic_data.csv' não foi encontrado.\")\n",
    "    exit()\n",
    "\n",
    "# Selecionar as colunas numéricas para normalização\n",
    "numeric_cols = ['time_in_hospital', 'num_lab_procedures', 'num_procedures',\n",
    "                'num_medications', 'number_outpatient', 'number_emergency',\n",
    "                'number_inpatient', 'number_diagnoses']\n",
    "\n",
    "# Selecionar as colunas numéricas\n",
    "df_numeric = df[numeric_cols].copy()\n",
    "\n",
    "# Verificar valores ausentes\n",
    "print(df_numeric.isnull().sum())"
   ]
  },
  {
   "cell_type": "code",
   "execution_count": null,
   "metadata": {},
   "outputs": [
    {
     "name": "stdout",
     "output_type": "stream",
     "text": [
      "   time_in_hospital  num_lab_procedures  num_procedures  num_medications  \\\n",
      "0          0.000000            0.305344        0.000000           0.0000   \n",
      "1          0.153846            0.442748        0.000000           0.2125   \n",
      "2          0.076923            0.076336        0.833333           0.1500   \n",
      "3          0.076923            0.328244        0.166667           0.1875   \n",
      "4          0.000000            0.381679        0.000000           0.0875   \n",
      "\n",
      "   number_outpatient  number_emergency  number_inpatient  number_diagnoses  \n",
      "0           0.000000               0.0          0.000000          0.000000  \n",
      "1           0.000000               0.0          0.000000          0.533333  \n",
      "2           0.047619               0.0          0.047619          0.333333  \n",
      "3           0.000000               0.0          0.000000          0.400000  \n",
      "4           0.000000               0.0          0.000000          0.266667  \n"
     ]
    }
   ],
   "source": [
    "from sklearn.preprocessing import MinMaxScaler\n",
    "\n",
    "# Inicializar o MinMaxScaler\n",
    "scaler = MinMaxScaler()\n",
    "\n",
    "# Ajustar o scaler aos dados numéricos e transformalos\n",
    "df_numeric_scaled = pd.DataFrame(scaler.fit_transform(df_numeric), columns=df_numeric.columns)\n",
    "\n",
    "# Exibir linhas dos dados normalizados\n",
    "print(df_numeric_scaled.head())"
   ]
  },
  {
   "cell_type": "code",
   "execution_count": null,
   "metadata": {},
   "outputs": [
    {
     "data": {
      "image/png": "[encoded data removed]",
      "text/plain": [
       "<Figure size 1000x600 with 1 Axes>"
      ]
     },
     "metadata": {},
     "output_type": "display_data"
    }
   ],
   "source": [
    "from sklearn.cluster import KMeans\n",
    "import matplotlib.pyplot as plt\n",
    "import pandas as pd\n",
    "\n",
    "# Amostragem de 20% do dataset\n",
    "df_amostra = df_numeric_scaled.sample(frac=0.2, random_state=42)\n",
    "\n",
    "# Intervalo de valores de K\n",
    "range_k = range(2, 20)\n",
    "\n",
    "# Aplicar o metodo do cotovelo na amostra\n",
    "wcss_amostra = []\n",
    "for k in range_k:\n",
    "    kmeans_amostra = KMeans(n_clusters=k, random_state=42, n_init=10, algorithm='elkan')\n",
    "    kmeans_amostra.fit(df_amostra)\n",
    "    wcss_amostra.append(kmeans_amostra.inertia_)\n",
    "\n",
    "# gerar o grafico na amostra\n",
    "plt.figure(figsize=(10, 6))\n",
    "plt.plot(range_k, wcss_amostra, marker='o', linestyle='-')\n",
    "plt.title('Método do Cotovelo (Amostra de 20%)')\n",
    "plt.xlabel('Número de Clusters (K)')\n",
    "plt.ylabel('Within-Cluster Sum of Squares (WCSS)')\n",
    "plt.grid(True)\n",
    "plt.show()"
   ]
  },
  {
   "cell_type": "code",
   "execution_count": null,
   "metadata": {},
   "outputs": [
    {
     "name": "stdout",
     "output_type": "stream",
     "text": [
      "Centroides dos Clusters (K=7):\n",
      "[[0.12518503 0.31380831 0.04882468 0.12264549 0.00459968 0.00192767\n",
      "  0.02211389 0.24359824]\n",
      " [0.20996799 0.40288221 0.0468882  0.1803043  0.01110871 0.00333384\n",
      "  0.03782314 0.49990735]\n",
      " [0.65264493 0.4408798  0.7278167  0.34779809 0.00770369 0.00208737\n",
      "  0.02989047 0.48588247]\n",
      " [0.61945841 0.38620884 0.13415158 0.23393777 0.00856754 0.0026329\n",
      "  0.04103833 0.46650445]\n",
      " [0.19975463 0.2993842  0.40950558 0.1959386  0.00872029 0.00213296\n",
      "  0.02518113 0.4253227 ]\n",
      " [0.15800715 0.28882557 0.8456014  0.20726916 0.00637415 0.00144073\n",
      "  0.01702685 0.42544423]\n",
      " [0.11455583 0.13351271 0.06260962 0.14295916 0.01166315 0.00342382\n",
      "  0.0295188  0.46289986]]\n",
      "\n",
      "Número de pontos em cada cluster (K=7):\n",
      "cluster\n",
      "0    17206\n",
      "1    24452\n",
      "2     6854\n",
      "3    13977\n",
      "4    15678\n",
      "5     7639\n",
      "6    15960\n",
      "Name: count, dtype: int64\n"
     ]
    }
   ],
   "source": [
    "from sklearn.cluster import KMeans\n",
    "\n",
    "# Definir o numero de clusters com base na analise do metodo do cotovelo\n",
    "n_clusters = 7\n",
    "\n",
    "# Inicializar e treinar o modelo K-Means\n",
    "kmeans = KMeans(n_clusters=n_clusters, random_state=42, n_init=10, algorithm='elkan')\n",
    "kmeans.fit(df_numeric_scaled)\n",
    "\n",
    "# Obter os rotulos dos clusters para cada ponto\n",
    "labels = kmeans.labels_\n",
    "\n",
    "# Adicionar os rotulos dos clusters ao df original\n",
    "df_clustered = df.copy()\n",
    "df_clustered['cluster'] = labels\n",
    "\n",
    "# Obter os centroides dos clusters\n",
    "centroids = kmeans.cluster_centers_\n",
    "\n",
    "# Exibir os centroides\n",
    "print(\"Centroides dos Clusters (K=7):\")\n",
    "print(centroids)\n",
    "\n",
    "# Exibir o numero de pontos em cada cluster\n",
    "print(\"\\nNúmero de pontos em cada cluster (K=7):\")\n",
    "print(df_clustered['cluster'].value_counts().sort_index())"
   ]
  },
  {
   "cell_type": "code",
   "execution_count": 19,
   "metadata": {},
   "outputs": [
    {
     "name": "stdout",
     "output_type": "stream",
     "text": [
      "\n",
      "A nova instância foi atribuída ao Cluster: 4\n",
      "\n",
      "Características médias do Cluster:\n",
      "[0.19975463 0.2993842  0.40950558 0.1959386  0.00872029 0.00213296\n",
      " 0.02518113 0.4253227 ]\n",
      "\n",
      "Interpretação das características médias do cluster (valores normalizados):\n",
      "- time_in_hospital: 0.1998\n",
      "- num_lab_procedures: 0.2994\n",
      "- num_procedures: 0.4095\n",
      "- num_medications: 0.1959\n",
      "- number_outpatient: 0.0087\n",
      "- number_emergency: 0.0021\n",
      "- number_inpatient: 0.0252\n",
      "- number_diagnoses: 0.4253\n"
     ]
    }
   ],
   "source": [
    "import numpy as np\n",
    "import pandas as pd\n",
    "\n",
    "def infer_cluster(new_data):\n",
    "    \"\"\"\n",
    "    Infer o cluster de uma nova instância de dados.\n",
    "\n",
    "    Args:\n",
    "        new_data (dict): Um dicionário contendo os valores das 8 características\n",
    "                         para a nova instância. As chaves devem ser os nomes das colunas\n",
    "                         em 'numeric_cols'.\n",
    "\n",
    "    Returns:\n",
    "        int: O número do cluster previsto para a nova instância.\n",
    "        numpy.ndarray: Os centroides de todos os clusters.\n",
    "    \"\"\"\n",
    "    # df com os novos dados e definir os nomes das colunas\n",
    "    new_df = pd.DataFrame([new_data], columns=numeric_cols)\n",
    "\n",
    "    # Normalizar os novos dados usando o scaler treinado\n",
    "    new_df_scaled = scaler.transform(new_df)\n",
    "\n",
    "    # Criar um df com os dados escalados e os nomes das colunas\n",
    "    new_df_scaled_with_names = pd.DataFrame(new_df_scaled, columns=numeric_cols)\n",
    "\n",
    "    # Prever o cluster usando o modelo K-Means treinado\n",
    "    predicted_cluster = kmeans.predict(new_df_scaled_with_names)[0]\n",
    "\n",
    "    return predicted_cluster, centroids\n",
    "\n",
    "# Exemplo de como usar a funçao de inferencia:\n",
    "novo_paciente = {\n",
    "    'time_in_hospital': 5,\n",
    "    'num_lab_procedures': 60,\n",
    "    'num_procedures': 2,\n",
    "    'num_medications': 15,\n",
    "    'number_outpatient': 1,\n",
    "    'number_emergency': 0,\n",
    "    'number_inpatient': 1,\n",
    "    'number_diagnoses': 8\n",
    "}\n",
    "\n",
    "cluster_previsto, centroides = infer_cluster(novo_paciente)\n",
    "\n",
    "print(f\"\\nA nova instância foi atribuída ao Cluster: {cluster_previsto}\")\n",
    "print(\"\\nCaracterísticas médias do Cluster:\")\n",
    "print(centroides[cluster_previsto])\n",
    "print(\"\\nInterpretação das características médias do cluster (valores normalizados):\")\n",
    "for i, col in enumerate(numeric_cols):\n",
    "    print(f\"- {col}: {centroides[cluster_previsto][i]:.4f}\")"
   ]
  }
 ],
 "metadata": {
  "kernelspec": {
   "display_name": "Python 3",
   "language": "python",
   "name": "python3"
  },
  "language_info": {
   "codemirror_mode": {
    "name": "ipython",
    "version": 3
   },
   "file_extension": ".py",
   "mimetype": "text/x-python",
   "name": "python",
   "nbconvert_exporter": "python",
   "pygments_lexer": "ipython3",
   "version": "3.13.1"
  }
 },
 "nbformat": 4,
 "nbformat_minor": 2
}
